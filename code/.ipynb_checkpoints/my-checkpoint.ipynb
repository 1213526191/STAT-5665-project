{
 "cells": [
  {
   "cell_type": "code",
   "execution_count": 1,
   "metadata": {},
   "outputs": [
    {
     "data": {
      "text/plain": [
       "'2.7.15 |Anaconda, Inc.| (default, Nov 13 2018, 17:07:45) \\n[GCC 4.2.1 Compatible Clang 4.0.1 (tags/RELEASE_401/final)]'"
      ]
     },
     "execution_count": 1,
     "metadata": {},
     "output_type": "execute_result"
    }
   ],
   "source": [
    "import sys\n",
    "sys.version"
   ]
  },
  {
   "cell_type": "markdown",
   "metadata": {},
   "source": [
    "# Import"
   ]
  },
  {
   "cell_type": "code",
   "execution_count": 16,
   "metadata": {},
   "outputs": [],
   "source": [
    "import gensim \n",
    "from gensim.models.deprecated.doc2vec import LabeledSentence\n",
    "LabeledSentence = LabeledSentence\n",
    "\n",
    "import numpy as np\n",
    "import pandas as pd\n",
    "import random\n",
    "#import re\n",
    "from sklearn.neural_network import MLPRegressor\n",
    "from sklearn.preprocessing import scale\n",
    "import keras\n",
    "from keras.models import Sequential\n",
    "from keras.layers import Dense, Activation, LSTM, Dropout,Conv1D,MaxPooling1D\n",
    "from keras.optimizers import SGD\n",
    "from sklearn.model_selection import train_test_split"
   ]
  },
  {
   "cell_type": "code",
   "execution_count": 5,
   "metadata": {},
   "outputs": [],
   "source": [
    "train = pd.read_csv('../data/')"
   ]
  },
  {
   "cell_type": "code",
   "execution_count": 84,
   "metadata": {},
   "outputs": [],
   "source": [
    "X = train.iloc[:,1:6]\n",
    "y = train.iloc[:,6:7]"
   ]
  },
  {
   "cell_type": "code",
   "execution_count": null,
   "metadata": {},
   "outputs": [],
   "source": [
    "model = Sequential()\n",
    "model.add(LSTM(100,input_shape=(1,5))) #,dropout=0.1\n",
    "model.add(Dropout(0.1))\n",
    "model.add(Dense(3,activation=\"sigmoid\"))\n",
    "model.add(Dense(1,activation=\"linear\"))\n",
    "model.compile(loss='mean_squared_error', optimizer='adam')"
   ]
  },
  {
   "cell_type": "code",
   "execution_count": 32,
   "metadata": {},
   "outputs": [],
   "source": [
    "# X_train, X_test, y_train, y_test = train_test_split(X, Y, test_size=0.2)"
   ]
  },
  {
   "cell_type": "code",
   "execution_count": 92,
   "metadata": {},
   "outputs": [
    {
     "data": {
      "text/plain": [
       "5"
      ]
     },
     "execution_count": 92,
     "metadata": {},
     "output_type": "execute_result"
    }
   ],
   "source": [
    "from sklearn.model_selection import KFold\n",
    "kf = KFold(n_splits=5)\n",
    "kf.get_n_splits(train)"
   ]
  },
  {
   "cell_type": "code",
   "execution_count": 93,
   "metadata": {},
   "outputs": [
    {
     "name": "stdout",
     "output_type": "stream",
     "text": [
      "Epoch 1/10\n",
      " 1800/78646 [..............................] - ETA: 7s - loss: 0.6168"
     ]
    },
    {
     "name": "stderr",
     "output_type": "stream",
     "text": [
      "/usr/local/anaconda3/envs/py2/lib/python2.7/site-packages/ipykernel_launcher.py:9: FutureWarning: Method .as_matrix will be removed in a future version. Use .values instead.\n",
      "  if __name__ == '__main__':\n",
      "/usr/local/anaconda3/envs/py2/lib/python2.7/site-packages/ipykernel_launcher.py:11: FutureWarning: Method .as_matrix will be removed in a future version. Use .values instead.\n",
      "  # This is added back by InteractiveShellApp.init_path()\n",
      "/usr/local/anaconda3/envs/py2/lib/python2.7/site-packages/ipykernel_launcher.py:14: FutureWarning: Method .as_matrix will be removed in a future version. Use .values instead.\n",
      "  \n",
      "/usr/local/anaconda3/envs/py2/lib/python2.7/site-packages/ipykernel_launcher.py:16: FutureWarning: Method .as_matrix will be removed in a future version. Use .values instead.\n",
      "  app.launch_new_instance()\n"
     ]
    },
    {
     "name": "stdout",
     "output_type": "stream",
     "text": [
      "78646/78646 [==============================] - 6s - loss: 0.6337     \n",
      "Epoch 2/10\n",
      "78646/78646 [==============================] - 6s - loss: 0.6338     \n",
      "Epoch 3/10\n",
      "78646/78646 [==============================] - 6s - loss: 0.6334     \n",
      "Epoch 4/10\n",
      "78646/78646 [==============================] - 6s - loss: 0.6338     \n",
      "Epoch 5/10\n",
      "78646/78646 [==============================] - 6s - loss: 0.6330     \n",
      "Epoch 6/10\n",
      "78646/78646 [==============================] - 6s - loss: 0.6330     \n",
      "Epoch 7/10\n",
      "78646/78646 [==============================] - 6s - loss: 0.6331     \n",
      "Epoch 8/10\n",
      "78646/78646 [==============================] - 6s - loss: 0.6330     \n",
      "Epoch 9/10\n",
      "78646/78646 [==============================] - 6s - loss: 0.6332     \n",
      "Epoch 10/10\n",
      "78646/78646 [==============================] - 6s - loss: 0.6321     \n",
      "Epoch 1/10\n",
      "78646/78646 [==============================] - 6s - loss: 0.6389     \n",
      "Epoch 2/10\n",
      "78646/78646 [==============================] - 6s - loss: 0.6383     \n",
      "Epoch 3/10\n",
      "78646/78646 [==============================] - 6s - loss: 0.6387     \n",
      "Epoch 4/10\n",
      "78646/78646 [==============================] - 6s - loss: 0.6387     \n",
      "Epoch 5/10\n",
      "78646/78646 [==============================] - 6s - loss: 0.6385     \n",
      "Epoch 6/10\n",
      "78646/78646 [==============================] - 7s - loss: 0.6381     \n",
      "Epoch 7/10\n",
      "78646/78646 [==============================] - 6s - loss: 0.6385     \n",
      "Epoch 8/10\n",
      "78646/78646 [==============================] - 6s - loss: 0.6375     \n",
      "Epoch 9/10\n",
      "78646/78646 [==============================] - 6s - loss: 0.6384     \n",
      "Epoch 10/10\n",
      "78646/78646 [==============================] - 6s - loss: 0.6379     \n",
      "Epoch 1/10\n",
      "78646/78646 [==============================] - 6s - loss: 0.6329     \n",
      "Epoch 2/10\n",
      "78646/78646 [==============================] - 6s - loss: 0.6330     \n",
      "Epoch 3/10\n",
      "78646/78646 [==============================] - 6s - loss: 0.6314     \n",
      "Epoch 4/10\n",
      "78646/78646 [==============================] - 6s - loss: 0.6325     \n",
      "Epoch 5/10\n",
      "78646/78646 [==============================] - 6s - loss: 0.6319     \n",
      "Epoch 6/10\n",
      "78646/78646 [==============================] - 6s - loss: 0.6319     \n",
      "Epoch 7/10\n",
      "78646/78646 [==============================] - 6s - loss: 0.6317     \n",
      "Epoch 8/10\n",
      "78646/78646 [==============================] - 7s - loss: 0.6319     \n",
      "Epoch 9/10\n",
      "78646/78646 [==============================] - 8s - loss: 0.6315     \n",
      "Epoch 10/10\n",
      "78646/78646 [==============================] - 10s - loss: 0.6313    \n",
      "Epoch 1/10\n",
      "78647/78647 [==============================] - 9s - loss: 0.6309     \n",
      "Epoch 2/10\n",
      "78647/78647 [==============================] - 8s - loss: 0.6310     \n",
      "Epoch 3/10\n",
      "78647/78647 [==============================] - 7s - loss: 0.6307     \n",
      "Epoch 4/10\n",
      "78647/78647 [==============================] - 7s - loss: 0.6310     \n",
      "Epoch 5/10\n",
      "78647/78647 [==============================] - 7s - loss: 0.6309     \n",
      "Epoch 6/10\n",
      "78647/78647 [==============================] - 7s - loss: 0.6306     \n",
      "Epoch 7/10\n",
      "78647/78647 [==============================] - 7s - loss: 0.6312     \n",
      "Epoch 8/10\n",
      "78647/78647 [==============================] - 6s - loss: 0.6314     \n",
      "Epoch 9/10\n",
      "78647/78647 [==============================] - 6s - loss: 0.6301     \n",
      "Epoch 10/10\n",
      "78647/78647 [==============================] - 7s - loss: 0.6305     \n",
      "Epoch 1/10\n",
      "78647/78647 [==============================] - 6s - loss: 0.6341     -\n",
      "Epoch 2/10\n",
      "78647/78647 [==============================] - 7s - loss: 0.6343     \n",
      "Epoch 3/10\n",
      "78647/78647 [==============================] - 7s - loss: 0.6343     \n",
      "Epoch 4/10\n",
      "78647/78647 [==============================] - 6s - loss: 0.6336     \n",
      "Epoch 5/10\n",
      "78647/78647 [==============================] - 6s - loss: 0.6334     \n",
      "Epoch 6/10\n",
      "78647/78647 [==============================] - 6s - loss: 0.6335     \n",
      "Epoch 7/10\n",
      "78647/78647 [==============================] - 6s - loss: 0.6336     \n",
      "Epoch 8/10\n",
      "78647/78647 [==============================] - 6s - loss: 0.6331     \n",
      "Epoch 9/10\n",
      "78647/78647 [==============================] - 7s - loss: 0.6334     \n",
      "Epoch 10/10\n",
      "78647/78647 [==============================] - 6s - loss: 0.6333     \n"
     ]
    }
   ],
   "source": [
    "sse = 0\n",
    "for train_index, test_index in kf.split(train):\n",
    "#     print(\"TRAIN:\", train_index, \"TEST:\", test_index)\n",
    "    X_train = X.iloc[train_index,:]\n",
    "    y_train = y.iloc[train_index,:]\n",
    "    X_test = X.iloc[test_index,:]\n",
    "    y_test = y.iloc[test_index,:]\n",
    "    ntrain = X_train.shape[0]\n",
    "    X_train_m = X_train.as_matrix()\n",
    "    X_train_m3 = X_train_m.reshape(ntrain,1,5)\n",
    "    y_train_m = y_train.as_matrix()\n",
    "\n",
    "    ntest = X_test.shape[0]\n",
    "    X_test_m = X_test.as_matrix()\n",
    "    X_test_m3 = X_test_m.reshape(ntest,1,5)\n",
    "    y_test_m = y_test.as_matrix()\n",
    "    model.fit(X_train_m3, y_train_m, batch_size=50)\n",
    "    predi = model.predict(X_test_m3, batch_size=50)\n",
    "    sse+=sum((predi-y_test_m)**2)"
   ]
  },
  {
   "cell_type": "code",
   "execution_count": 94,
   "metadata": {},
   "outputs": [],
   "source": [
    "N = train.shape[0]"
   ]
  },
  {
   "cell_type": "code",
   "execution_count": 95,
   "metadata": {},
   "outputs": [
    {
     "data": {
      "text/plain": [
       "array([0.63310782])"
      ]
     },
     "execution_count": 95,
     "metadata": {},
     "output_type": "execute_result"
    }
   ],
   "source": [
    "sse/N"
   ]
  },
  {
   "cell_type": "code",
   "execution_count": null,
   "metadata": {},
   "outputs": [],
   "source": []
  }
 ],
 "metadata": {
  "kernelspec": {
   "display_name": "Python 2",
   "language": "python",
   "name": "python2"
  },
  "language_info": {
   "codemirror_mode": {
    "name": "ipython",
    "version": 2
   },
   "file_extension": ".py",
   "mimetype": "text/x-python",
   "name": "python",
   "nbconvert_exporter": "python",
   "pygments_lexer": "ipython2",
   "version": "2.7.15"
  }
 },
 "nbformat": 4,
 "nbformat_minor": 2
}
