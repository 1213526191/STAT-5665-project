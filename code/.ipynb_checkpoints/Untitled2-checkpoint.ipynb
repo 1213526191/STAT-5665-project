{
 "cells": [
  {
   "cell_type": "markdown",
   "metadata": {},
   "source": [
    "# Import"
   ]
  },
  {
   "cell_type": "code",
   "execution_count": null,
   "metadata": {},
   "outputs": [],
   "source": [
    "import gensim \n",
    "from gensim.models.deprecated.doc2vec import LabeledSentence\n",
    "LabeledSentence = LabeledSentence\n",
    "\n",
    "import numpy as np\n",
    "import pandas as pd\n",
    "import random\n",
    "#import re\n",
    "from sklearn.neural_network import MLPRegressor\n",
    "import keras\n",
    "# from keras.models import Sequential\n",
    "# from keras.layers import Dense, Activation, LSTM, Dropout,Conv1D,MaxPooling1D\n",
    "# from keras.optimizers import SGD\n",
    "# from sklearn.preprocessing import scale"
   ]
  },
  {
   "cell_type": "code",
   "execution_count": null,
   "metadata": {},
   "outputs": [],
   "source": []
  }
 ],
 "metadata": {
  "kernelspec": {
   "display_name": "Python 2",
   "language": "python",
   "name": "python2"
  }
 },
 "nbformat": 4,
 "nbformat_minor": 2
}
